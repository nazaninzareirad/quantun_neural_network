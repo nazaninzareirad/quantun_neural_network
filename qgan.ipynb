{
  "nbformat": 4,
  "nbformat_minor": 0,
  "metadata": {
    "colab": {
      "provenance": []
    },
    "kernelspec": {
      "name": "python3",
      "display_name": "Python 3"
    },
    "language_info": {
      "name": "python"
    }
  },
  "cells": [
    {
      "cell_type": "code",
      "execution_count": 7,
      "metadata": {
        "colab": {
          "base_uri": "https://localhost:8080/"
        },
        "id": "HzJZRixRYXBP",
        "outputId": "d5e76baf-1bf6-4c89-d004-a468392b0eba"
      },
      "outputs": [
        {
          "output_type": "stream",
          "name": "stdout",
          "text": [
            "Requirement already satisfied: pennylane in /usr/local/lib/python3.11/dist-packages (0.40.0)\n",
            "Requirement already satisfied: numpy<2.1 in /usr/local/lib/python3.11/dist-packages (from pennylane) (1.26.4)\n",
            "Requirement already satisfied: scipy in /usr/local/lib/python3.11/dist-packages (from pennylane) (1.13.1)\n",
            "Requirement already satisfied: networkx in /usr/local/lib/python3.11/dist-packages (from pennylane) (3.4.2)\n",
            "Requirement already satisfied: rustworkx>=0.14.0 in /usr/local/lib/python3.11/dist-packages (from pennylane) (0.16.0)\n",
            "Requirement already satisfied: autograd in /usr/local/lib/python3.11/dist-packages (from pennylane) (1.7.0)\n",
            "Requirement already satisfied: tomlkit in /usr/local/lib/python3.11/dist-packages (from pennylane) (0.13.2)\n",
            "Requirement already satisfied: appdirs in /usr/local/lib/python3.11/dist-packages (from pennylane) (1.4.4)\n",
            "Requirement already satisfied: autoray>=0.6.11 in /usr/local/lib/python3.11/dist-packages (from pennylane) (0.7.0)\n",
            "Requirement already satisfied: cachetools in /usr/local/lib/python3.11/dist-packages (from pennylane) (5.5.1)\n",
            "Requirement already satisfied: pennylane-lightning>=0.40 in /usr/local/lib/python3.11/dist-packages (from pennylane) (0.40.0)\n",
            "Requirement already satisfied: requests in /usr/local/lib/python3.11/dist-packages (from pennylane) (2.32.3)\n",
            "Requirement already satisfied: typing-extensions in /usr/local/lib/python3.11/dist-packages (from pennylane) (4.12.2)\n",
            "Requirement already satisfied: packaging in /usr/local/lib/python3.11/dist-packages (from pennylane) (24.2)\n",
            "Requirement already satisfied: diastatic-malt in /usr/local/lib/python3.11/dist-packages (from pennylane) (2.15.2)\n",
            "Requirement already satisfied: scipy-openblas32>=0.3.26 in /usr/local/lib/python3.11/dist-packages (from pennylane-lightning>=0.40->pennylane) (0.3.29.0.0)\n",
            "Requirement already satisfied: astunparse in /usr/local/lib/python3.11/dist-packages (from diastatic-malt->pennylane) (1.6.3)\n",
            "Requirement already satisfied: gast in /usr/local/lib/python3.11/dist-packages (from diastatic-malt->pennylane) (0.6.0)\n",
            "Requirement already satisfied: termcolor in /usr/local/lib/python3.11/dist-packages (from diastatic-malt->pennylane) (2.5.0)\n",
            "Requirement already satisfied: charset-normalizer<4,>=2 in /usr/local/lib/python3.11/dist-packages (from requests->pennylane) (3.4.1)\n",
            "Requirement already satisfied: idna<4,>=2.5 in /usr/local/lib/python3.11/dist-packages (from requests->pennylane) (3.10)\n",
            "Requirement already satisfied: urllib3<3,>=1.21.1 in /usr/local/lib/python3.11/dist-packages (from requests->pennylane) (2.3.0)\n",
            "Requirement already satisfied: certifi>=2017.4.17 in /usr/local/lib/python3.11/dist-packages (from requests->pennylane) (2024.12.14)\n",
            "Requirement already satisfied: wheel<1.0,>=0.23.0 in /usr/local/lib/python3.11/dist-packages (from astunparse->diastatic-malt->pennylane) (0.45.1)\n",
            "Requirement already satisfied: six<2.0,>=1.6.1 in /usr/local/lib/python3.11/dist-packages (from astunparse->diastatic-malt->pennylane) (1.17.0)\n"
          ]
        }
      ],
      "source": [
        "pip install pennylane --upgrade"
      ]
    },
    {
      "cell_type": "code",
      "source": [
        "# Library imports\n",
        "import math\n",
        "import random\n",
        "import numpy as np\n",
        "import pandas as pd\n",
        "import matplotlib.pyplot as plt\n",
        "import matplotlib.gridspec as gridspec\n",
        "import pennylane as qml\n",
        "\n",
        "# Pytorch imports\n",
        "import torch\n",
        "import torch.nn as nn\n",
        "import torch.optim as optim\n",
        "import torchvision\n",
        "import torchvision.transforms as transforms\n",
        "from torch.utils.data import Dataset, DataLoader\n",
        "\n",
        "# Set the random seed for reproducibility\n",
        "seed = 12\n",
        "torch.manual_seed(seed)\n",
        "np.random.seed(seed)\n",
        "random.seed(seed)"
      ],
      "metadata": {
        "id": "dFPQfx1odCwL"
      },
      "execution_count": 8,
      "outputs": []
    },
    {
      "cell_type": "code",
      "source": [
        "class DigitsDataset(Dataset):\n",
        "    \"\"\"Pytorch dataloader for the Optical Recognition of Handwritten Digits Data Set\"\"\"\n",
        "\n",
        "    def __init__(self, csv_file, label=0, transform=None):\n",
        "        \"\"\"\n",
        "        Args:\n",
        "            csv_file (string): Path to the csv file with annotations.\n",
        "            root_dir (string): Directory with all the images.\n",
        "            transform (callable, optional): Optional transform to be applied\n",
        "                on a sample.\n",
        "        \"\"\"\n",
        "        self.csv_file = csv_file\n",
        "        self.transform = transform\n",
        "        self.df = self.filter_by_label(label)\n",
        "\n",
        "    def filter_by_label(self, label):\n",
        "        # Use pandas to return a dataframe of only zeros\n",
        "        df = pd.read_csv(self.csv_file)\n",
        "        df = df.loc[df.iloc[:, -1] == label]\n",
        "        return df\n",
        "\n",
        "    def __len__(self):\n",
        "        return len(self.df)\n",
        "\n",
        "    def __getitem__(self, idx):\n",
        "        if torch.is_tensor(idx):\n",
        "            idx = idx.tolist()\n",
        "\n",
        "        image = self.df.iloc[idx, :-1] / 16\n",
        "        image = np.array(image)\n",
        "        image = image.astype(np.float32).reshape(8, 8)\n",
        "\n",
        "        if self.transform:\n",
        "            image = self.transform(image)\n",
        "\n",
        "        # Return image and label\n",
        "        return image, 0"
      ],
      "metadata": {
        "id": "m2nqhyCzdzm8"
      },
      "execution_count": 10,
      "outputs": []
    },
    {
      "cell_type": "code",
      "source": [
        "pip install ucimlrepo"
      ],
      "metadata": {
        "colab": {
          "base_uri": "https://localhost:8080/"
        },
        "id": "PiGn3RSwf_RN",
        "outputId": "a55b2d74-8300-46f8-9f04-963714a52ced"
      },
      "execution_count": 12,
      "outputs": [
        {
          "output_type": "stream",
          "name": "stdout",
          "text": [
            "Collecting ucimlrepo\n",
            "  Downloading ucimlrepo-0.0.7-py3-none-any.whl.metadata (5.5 kB)\n",
            "Requirement already satisfied: pandas>=1.0.0 in /usr/local/lib/python3.11/dist-packages (from ucimlrepo) (2.2.2)\n",
            "Requirement already satisfied: certifi>=2020.12.5 in /usr/local/lib/python3.11/dist-packages (from ucimlrepo) (2024.12.14)\n",
            "Requirement already satisfied: numpy>=1.23.2 in /usr/local/lib/python3.11/dist-packages (from pandas>=1.0.0->ucimlrepo) (1.26.4)\n",
            "Requirement already satisfied: python-dateutil>=2.8.2 in /usr/local/lib/python3.11/dist-packages (from pandas>=1.0.0->ucimlrepo) (2.8.2)\n",
            "Requirement already satisfied: pytz>=2020.1 in /usr/local/lib/python3.11/dist-packages (from pandas>=1.0.0->ucimlrepo) (2024.2)\n",
            "Requirement already satisfied: tzdata>=2022.7 in /usr/local/lib/python3.11/dist-packages (from pandas>=1.0.0->ucimlrepo) (2025.1)\n",
            "Requirement already satisfied: six>=1.5 in /usr/local/lib/python3.11/dist-packages (from python-dateutil>=2.8.2->pandas>=1.0.0->ucimlrepo) (1.17.0)\n",
            "Downloading ucimlrepo-0.0.7-py3-none-any.whl (8.0 kB)\n",
            "Installing collected packages: ucimlrepo\n",
            "Successfully installed ucimlrepo-0.0.7\n"
          ]
        }
      ]
    },
    {
      "cell_type": "code",
      "source": [
        "from ucimlrepo import fetch_ucirepo\n",
        "\n",
        "# Fetch the dataset\n",
        "optical_recognition_of_handwritten_digits = fetch_ucirepo(id=80)\n",
        "\n",
        "# Check the structure of the fetched dataset\n",
        "print(optical_recognition_of_handwritten_digits)"
      ],
      "metadata": {
        "colab": {
          "base_uri": "https://localhost:8080/"
        },
        "id": "AgPwXiewgt6n",
        "outputId": "faf7c455-e6cd-4e7b-df3b-90ec6bb29191"
      },
      "execution_count": 20,
      "outputs": [
        {
          "output_type": "stream",
          "name": "stdout",
          "text": [
            "{'data': {'ids': None, 'features':       Attribute1  Attribute2  Attribute3  Attribute4  Attribute5  Attribute6  \\\n",
            "0              0           1           6          15          12           1   \n",
            "1              0           0          10          16           6           0   \n",
            "2              0           0           8          15          16          13   \n",
            "3              0           0           0           3          11          16   \n",
            "4              0           0           5          14           4           0   \n",
            "...          ...         ...         ...         ...         ...         ...   \n",
            "5615           0           0           4          10          13           6   \n",
            "5616           0           0           6          16          13          11   \n",
            "5617           0           0           1          11          15           1   \n",
            "5618           0           0           2          10           7           0   \n",
            "5619           0           0          10          14           8           1   \n",
            "\n",
            "      Attribute7  Attribute8  Attribute9  Attribute10  ...  Attribute55  \\\n",
            "0              0           0           0            7  ...            0   \n",
            "1              0           0           0            7  ...            3   \n",
            "2              0           0           0            1  ...            0   \n",
            "3              0           0           0            0  ...            0   \n",
            "4              0           0           0            0  ...           12   \n",
            "...          ...         ...         ...          ...  ...          ...   \n",
            "5615           0           0           0            1  ...            4   \n",
            "5616           1           0           0            0  ...            1   \n",
            "5617           0           0           0            0  ...            0   \n",
            "5618           0           0           0            0  ...            2   \n",
            "5619           0           0           0            2  ...            8   \n",
            "\n",
            "      Attribute56  Attribute57  Attribute58  Attribute59  Attribute60  \\\n",
            "0               0            0            0            6           14   \n",
            "1               0            0            0           10           16   \n",
            "2               0            0            0            9           14   \n",
            "3               0            0            0            0            1   \n",
            "4               0            0            0            4           12   \n",
            "...           ...          ...          ...          ...          ...   \n",
            "5615            0            0            0            2           14   \n",
            "5616            0            0            0            6           16   \n",
            "5617            0            0            0            2            9   \n",
            "5618            0            0            0            5           12   \n",
            "5619            0            0            1            8           12   \n",
            "\n",
            "      Attribute61  Attribute62  Attribute63  Attribute64  \n",
            "0               7            1            0            0  \n",
            "1              15            3            0            0  \n",
            "2               0            0            0            0  \n",
            "3              15            2            0            0  \n",
            "4              14            7            0            0  \n",
            "...           ...          ...          ...          ...  \n",
            "5615           15            9            0            0  \n",
            "5616           14            6            0            0  \n",
            "5617           13            6            0            0  \n",
            "5618           16           12            0            0  \n",
            "5619           14           12            1            0  \n",
            "\n",
            "[5620 rows x 64 columns], 'targets':       class\n",
            "0         0\n",
            "1         0\n",
            "2         7\n",
            "3         4\n",
            "4         6\n",
            "...     ...\n",
            "5615      9\n",
            "5616      0\n",
            "5617      8\n",
            "5618      9\n",
            "5619      8\n",
            "\n",
            "[5620 rows x 1 columns], 'original':       Attribute1  Attribute2  Attribute3  Attribute4  Attribute5  Attribute6  \\\n",
            "0              0           1           6          15          12           1   \n",
            "1              0           0          10          16           6           0   \n",
            "2              0           0           8          15          16          13   \n",
            "3              0           0           0           3          11          16   \n",
            "4              0           0           5          14           4           0   \n",
            "...          ...         ...         ...         ...         ...         ...   \n",
            "5615           0           0           4          10          13           6   \n",
            "5616           0           0           6          16          13          11   \n",
            "5617           0           0           1          11          15           1   \n",
            "5618           0           0           2          10           7           0   \n",
            "5619           0           0          10          14           8           1   \n",
            "\n",
            "      Attribute7  Attribute8  Attribute9  Attribute10  ...  Attribute56  \\\n",
            "0              0           0           0            7  ...            0   \n",
            "1              0           0           0            7  ...            0   \n",
            "2              0           0           0            1  ...            0   \n",
            "3              0           0           0            0  ...            0   \n",
            "4              0           0           0            0  ...            0   \n",
            "...          ...         ...         ...          ...  ...          ...   \n",
            "5615           0           0           0            1  ...            0   \n",
            "5616           1           0           0            0  ...            0   \n",
            "5617           0           0           0            0  ...            0   \n",
            "5618           0           0           0            0  ...            0   \n",
            "5619           0           0           0            2  ...            0   \n",
            "\n",
            "      Attribute57  Attribute58  Attribute59  Attribute60  Attribute61  \\\n",
            "0               0            0            6           14            7   \n",
            "1               0            0           10           16           15   \n",
            "2               0            0            9           14            0   \n",
            "3               0            0            0            1           15   \n",
            "4               0            0            4           12           14   \n",
            "...           ...          ...          ...          ...          ...   \n",
            "5615            0            0            2           14           15   \n",
            "5616            0            0            6           16           14   \n",
            "5617            0            0            2            9           13   \n",
            "5618            0            0            5           12           16   \n",
            "5619            0            1            8           12           14   \n",
            "\n",
            "      Attribute62  Attribute63  Attribute64  class  \n",
            "0               1            0            0      0  \n",
            "1               3            0            0      0  \n",
            "2               0            0            0      7  \n",
            "3               2            0            0      4  \n",
            "4               7            0            0      6  \n",
            "...           ...          ...          ...    ...  \n",
            "5615            9            0            0      9  \n",
            "5616            6            0            0      0  \n",
            "5617            6            0            0      8  \n",
            "5618           12            0            0      9  \n",
            "5619           12            1            0      8  \n",
            "\n",
            "[5620 rows x 65 columns], 'headers': Index(['Attribute1', 'Attribute2', 'Attribute3', 'Attribute4', 'Attribute5',\n",
            "       'Attribute6', 'Attribute7', 'Attribute8', 'Attribute9', 'Attribute10',\n",
            "       'Attribute11', 'Attribute12', 'Attribute13', 'Attribute14',\n",
            "       'Attribute15', 'Attribute16', 'Attribute17', 'Attribute18',\n",
            "       'Attribute19', 'Attribute20', 'Attribute21', 'Attribute22',\n",
            "       'Attribute23', 'Attribute24', 'Attribute25', 'Attribute26',\n",
            "       'Attribute27', 'Attribute28', 'Attribute29', 'Attribute30',\n",
            "       'Attribute31', 'Attribute32', 'Attribute33', 'Attribute34',\n",
            "       'Attribute35', 'Attribute36', 'Attribute37', 'Attribute38',\n",
            "       'Attribute39', 'Attribute40', 'Attribute41', 'Attribute42',\n",
            "       'Attribute43', 'Attribute44', 'Attribute45', 'Attribute46',\n",
            "       'Attribute47', 'Attribute48', 'Attribute49', 'Attribute50',\n",
            "       'Attribute51', 'Attribute52', 'Attribute53', 'Attribute54',\n",
            "       'Attribute55', 'Attribute56', 'Attribute57', 'Attribute58',\n",
            "       'Attribute59', 'Attribute60', 'Attribute61', 'Attribute62',\n",
            "       'Attribute63', 'Attribute64', 'class'],\n",
            "      dtype='object')}, 'metadata': {'uci_id': 80, 'name': 'Optical Recognition of Handwritten Digits', 'repository_url': 'https://archive.ics.uci.edu/dataset/80/optical+recognition+of+handwritten+digits', 'data_url': 'https://archive.ics.uci.edu/static/public/80/data.csv', 'abstract': 'Two versions of this database available; see folder', 'area': 'Computer Science', 'tasks': ['Classification'], 'characteristics': ['Multivariate'], 'num_instances': 5620, 'num_features': 64, 'feature_types': ['Integer'], 'demographics': [], 'target_col': ['class'], 'index_col': None, 'has_missing_values': 'no', 'missing_values_symbol': None, 'year_of_dataset_creation': 1998, 'last_updated': 'Wed Aug 23 2023', 'dataset_doi': '10.24432/C50P49', 'creators': ['E. Alpaydin', 'C. Kaynak'], 'intro_paper': {'ID': 280, 'type': 'NATIVE', 'title': 'Methods of Combining Multiple Classifiers and Their Applications to Handwritten Digit Recognition', 'authors': 'C. Kaynak', 'venue': 'MSc Thesis, Institute of Graduate Studies in Science and Engineering, Bogazici University', 'year': 1995, 'journal': None, 'DOI': None, 'URL': None, 'sha': None, 'corpus': None, 'arxiv': None, 'mag': None, 'acl': None, 'pmid': None, 'pmcid': None}, 'additional_info': {'summary': 'We used preprocessing programs made available by NIST to extract normalized bitmaps of handwritten digits from a preprinted form. From a total of 43 people, 30 contributed to the training set and different 13 to the test set. 32x32 bitmaps are divided into nonoverlapping blocks of 4x4 and the number of on pixels are counted in each block. This generates an input matrix of 8x8 where each element is an integer in the range 0..16. This reduces dimensionality and gives invariance to small distortions.\\r\\n\\r\\nFor info on NIST preprocessing routines, see M. D. Garris, J. L. Blue, G. T. Candela, D. L. Dimmick, J. Geist, P. J. Grother, S. A. Janet, and C. L. Wilson, NIST Form-Based Handprint Recognition System, NISTIR 5469, 1994.', 'purpose': None, 'funded_by': None, 'instances_represent': None, 'recommended_data_splits': None, 'sensitive_data': None, 'preprocessing_description': None, 'variable_info': 'All input attributes are integers in the range 0..16.\\r\\nThe last attribute is the class code 0..9', 'citation': None}}, 'variables':            name     role         type demographic description units  \\\n",
            "0    Attribute1  Feature      Integer        None        None  None   \n",
            "1    Attribute2  Feature      Integer        None        None  None   \n",
            "2    Attribute3  Feature      Integer        None        None  None   \n",
            "3    Attribute4  Feature      Integer        None        None  None   \n",
            "4    Attribute5  Feature      Integer        None        None  None   \n",
            "..          ...      ...          ...         ...         ...   ...   \n",
            "60  Attribute61  Feature      Integer        None        None  None   \n",
            "61  Attribute62  Feature      Integer        None        None  None   \n",
            "62  Attribute63  Feature      Integer        None        None  None   \n",
            "63  Attribute64  Feature      Integer        None        None  None   \n",
            "64        class   Target  Categorical        None        None  None   \n",
            "\n",
            "   missing_values  \n",
            "0              no  \n",
            "1              no  \n",
            "2              no  \n",
            "3              no  \n",
            "4              no  \n",
            "..            ...  \n",
            "60             no  \n",
            "61             no  \n",
            "62             no  \n",
            "63             no  \n",
            "64             no  \n",
            "\n",
            "[65 rows x 7 columns]}\n"
          ]
        }
      ]
    },
    {
      "cell_type": "code",
      "source": [
        "from google.colab import drive\n",
        "drive.mount('/content/drive')\n",
        "\n",
        "file_path = '/content/drive/My Drive/optdigits.tra'"
      ],
      "metadata": {
        "colab": {
          "base_uri": "https://localhost:8080/"
        },
        "id": "1Tq88JDbmWXE",
        "outputId": "f4d340d6-2f34-457e-fae2-0e7dad4dbe11"
      },
      "execution_count": 21,
      "outputs": [
        {
          "output_type": "stream",
          "name": "stdout",
          "text": [
            "Mounted at /content/drive\n"
          ]
        }
      ]
    },
    {
      "cell_type": "code",
      "source": [
        "\n",
        "file_path = '/content/drive/My Drive/optdigits.tra'"
      ],
      "metadata": {
        "id": "q5gD8u6ynPst"
      },
      "execution_count": 23,
      "outputs": []
    },
    {
      "cell_type": "code",
      "source": [
        "image_size = 8  # Height / width of the square images\n",
        "batch_size = 1\n",
        "\n",
        "transform = transforms.Compose([transforms.ToTensor()])\n",
        "dataset = DigitsDataset(csv_file=file_path, transform=transform)\n",
        "dataloader = torch.utils.data.DataLoader(\n",
        "    dataset, batch_size=batch_size, shuffle=True, drop_last=True\n",
        ")"
      ],
      "metadata": {
        "id": "CEPzX7KpgGwN"
      },
      "execution_count": 24,
      "outputs": []
    },
    {
      "cell_type": "code",
      "source": [
        "plt.figure(figsize=(8,2))\n",
        "\n",
        "for i in range(8):\n",
        "    image = dataset[i][0].reshape(image_size,image_size)\n",
        "    plt.subplot(1,8,i+1)\n",
        "    plt.axis('off')\n",
        "    plt.imshow(image.numpy(), cmap='gray')\n",
        "\n",
        "plt.show()"
      ],
      "metadata": {
        "colab": {
          "base_uri": "https://localhost:8080/",
          "height": 102
        },
        "id": "NRvVvgg_nR-x",
        "outputId": "4517b995-46fe-486a-fe2c-65f9346a40c9"
      },
      "execution_count": 25,
      "outputs": [
        {
          "output_type": "display_data",
          "data": {
            "text/plain": [
              "<Figure size 800x200 with 8 Axes>"
            ],
            "image/png": "[encoded data removed]"
          },
          "metadata": {}
        }
      ]
    },
    {
      "cell_type": "code",
      "source": [
        "class Discriminator(nn.Module):\n",
        "    \"\"\"Fully connected classical discriminator\"\"\"\n",
        "\n",
        "    def __init__(self):\n",
        "        super().__init__()\n",
        "\n",
        "        self.model = nn.Sequential(\n",
        "            # Inputs to first hidden layer (num_input_features -> 64)\n",
        "            nn.Linear(image_size * image_size, 64),\n",
        "            nn.ReLU(),\n",
        "            # First hidden layer (64 -> 16)\n",
        "            nn.Linear(64, 16),\n",
        "            nn.ReLU(),\n",
        "            # Second hidden layer (16 -> output)\n",
        "            nn.Linear(16, 1),\n",
        "            nn.Sigmoid(),\n",
        "        )\n",
        "\n",
        "    def forward(self, x):\n",
        "        return self.model(x)"
      ],
      "metadata": {
        "id": "GqFHPFiGnUh9"
      },
      "execution_count": 26,
      "outputs": []
    },
    {
      "cell_type": "code",
      "source": [
        "import torch.nn as nn\n",
        "import torch.nn.functional as F\n",
        "\n",
        "\n",
        "class Discriminator(nn.Module):\n",
        "    \"\"\"Enhanced fully connected classical discriminator\"\"\"\n",
        "\n",
        "    def __init__(self):\n",
        "        super().__init__()\n",
        "\n",
        "        self.model = nn.Sequential(\n",
        "            # Input layer (num_input_features -> 128)\n",
        "            nn.Linear(image_size * image_size, 128),\n",
        "            nn.LeakyReLU(0.2),\n",
        "            nn.Dropout(0.3),\n",
        "            # First hidden layer (128 -> 64)\n",
        "            nn.Linear(128, 64),\n",
        "            nn.BatchNorm1d(64),\n",
        "            nn.LeakyReLU(0.2),\n",
        "            nn.Dropout(0.3),\n",
        "            # Second hidden layer (64 -> 32)\n",
        "            nn.Linear(64, 32),\n",
        "            nn.BatchNorm1d(32),\n",
        "            nn.LeakyReLU(0.2),\n",
        "            nn.Dropout(0.3),\n",
        "            # Output layer (32 -> 1)\n",
        "            nn.Linear(32, 1),\n",
        "            nn.Sigmoid(),\n",
        "        )\n",
        "        self._initialize_weights()\n",
        "\n",
        "    def forward(self, x):\n",
        "        # Flatten input if necessary\n",
        "        x = x.view(x.size(0), -1)\n",
        "        return self.model(x)\n",
        "\n",
        "    def _initialize_weights(self):\n",
        "        \"\"\"Custom weight initialization for the layers\"\"\"\n",
        "        for m in self.model:\n",
        "            if isinstance(m, nn.Linear):\n",
        "                nn.init.xavier_uniform_(m.weight)\n",
        "                nn.init.constant_(m.bias, 0)"
      ],
      "metadata": {
        "id": "SDV8XcQtnwgg"
      },
      "execution_count": null,
      "outputs": []
    },
    {
      "cell_type": "code",
      "source": [
        "# Quantum variables\n",
        "n_qubits = 5  # Total number of qubits / N\n",
        "n_a_qubits = 1  # Number of ancillary qubits / N_A\n",
        "q_depth = 6  # Depth of the parameterised quantum circuit / D\n",
        "n_generators = 4  # Number of subgenerators for the patch method / N_G"
      ],
      "metadata": {
        "id": "FbWxpfognd6D"
      },
      "execution_count": 27,
      "outputs": []
    },
    {
      "cell_type": "code",
      "source": [
        "# Quantum simulator\n",
        "dev = qml.device(\"lightning.qubit\", wires=n_qubits)\n",
        "# Enable CUDA device if available\n",
        "device = torch.device(\"cuda:0\" if torch.cuda.is_available() else \"cpu\")"
      ],
      "metadata": {
        "id": "B01YuTXNngno"
      },
      "execution_count": 28,
      "outputs": []
    },
    {
      "cell_type": "code",
      "source": [
        "@qml.qnode(dev, diff_method=\"parameter-shift\")\n",
        "def quantum_circuit(noise, weights):\n",
        "\n",
        "    weights = weights.reshape(q_depth, n_qubits)\n",
        "\n",
        "    # Initialise latent vectors\n",
        "    for i in range(n_qubits):\n",
        "        qml.RY(noise[i], wires=i)\n",
        "\n",
        "    # Repeated layer\n",
        "    for i in range(q_depth):\n",
        "        # Parameterised layer\n",
        "        for y in range(n_qubits):\n",
        "            qml.RY(weights[i][y], wires=y)\n",
        "\n",
        "        # Control Z gates\n",
        "        for y in range(n_qubits - 1):\n",
        "            qml.CZ(wires=[y, y + 1])\n",
        "\n",
        "    return qml.probs(wires=list(range(n_qubits)))\n",
        "\n",
        "\n",
        "# For further info on how the non-linear transform is implemented in Pennylane\n",
        "# https://discuss.pennylane.ai/t/ancillary-subsystem-measurement-then-trace-out/1532\n",
        "def partial_measure(noise, weights):\n",
        "    # Non-linear Transform\n",
        "    probs = quantum_circuit(noise, weights)\n",
        "    probsgiven0 = probs[: (2 ** (n_qubits - n_a_qubits))]\n",
        "    probsgiven0 /= torch.sum(probs)\n",
        "\n",
        "    # Post-Processing\n",
        "    probsgiven = probsgiven0 / torch.max(probsgiven0)\n",
        "    return probsgiven"
      ],
      "metadata": {
        "id": "7YCi-I3cnkZl"
      },
      "execution_count": 29,
      "outputs": []
    },
    {
      "cell_type": "code",
      "source": [
        "class PatchQuantumGenerator(nn.Module):\n",
        "    \"\"\"Quantum generator class for the patch method\"\"\"\n",
        "\n",
        "    def __init__(self, n_generators, q_delta=1):\n",
        "        \"\"\"\n",
        "        Args:\n",
        "            n_generators (int): Number of sub-generators to be used in the patch method.\n",
        "            q_delta (float, optional): Spread of the random distribution for parameter initialisation.\n",
        "        \"\"\"\n",
        "\n",
        "        super().__init__()\n",
        "\n",
        "        self.q_params = nn.ParameterList(\n",
        "            [\n",
        "                nn.Parameter(q_delta * torch.rand(q_depth * n_qubits), requires_grad=True)\n",
        "                for _ in range(n_generators)\n",
        "            ]\n",
        "        )\n",
        "        self.n_generators = n_generators\n",
        "\n",
        "    def forward(self, x):\n",
        "        # Size of each sub-generator output\n",
        "        patch_size = 2 ** (n_qubits - n_a_qubits)\n",
        "\n",
        "        # Create a Tensor to 'catch' a batch of images from the for loop. x.size(0) is the batch size.\n",
        "        images = torch.Tensor(x.size(0), 0).to(device)\n",
        "\n",
        "        # Iterate over all sub-generators\n",
        "        for params in self.q_params:\n",
        "\n",
        "            # Create a Tensor to 'catch' a batch of the patches from a single sub-generator\n",
        "            patches = torch.Tensor(0, patch_size).to(device)\n",
        "            for elem in x:\n",
        "                q_out = partial_measure(elem, params).float().unsqueeze(0)\n",
        "                patches = torch.cat((patches, q_out))\n",
        "\n",
        "            # Each batch of patches is concatenated with each other to create a batch of images\n",
        "            images = torch.cat((images, patches), 1)\n",
        "\n",
        "        return images"
      ],
      "metadata": {
        "id": "OORfwbWTnnY9"
      },
      "execution_count": 30,
      "outputs": []
    },
    {
      "cell_type": "code",
      "source": [
        "lrG = 0.3  # Learning rate for the generator\n",
        "lrD = 0.01  # Learning rate for the discriminator\n",
        "num_iter = 500  # Number of training iterations"
      ],
      "metadata": {
        "id": "DYe4GjPrn3jP"
      },
      "execution_count": 31,
      "outputs": []
    },
    {
      "cell_type": "code",
      "source": [
        "discriminator = Discriminator().to(device)\n",
        "generator = PatchQuantumGenerator(n_generators).to(device)\n",
        "\n",
        "# Binary cross entropy\n",
        "criterion = nn.BCELoss()\n",
        "\n",
        "# Optimisers\n",
        "optD = optim.SGD(discriminator.parameters(), lr=lrD)\n",
        "optG = optim.SGD(generator.parameters(), lr=lrG)\n",
        "\n",
        "real_labels = torch.full((batch_size,), 1.0, dtype=torch.float, device=device)\n",
        "fake_labels = torch.full((batch_size,), 0.0, dtype=torch.float, device=device)\n",
        "\n",
        "# Fixed noise allows us to visually track the generated images throughout training\n",
        "fixed_noise = torch.rand(8, n_qubits, device=device) * math.pi / 2\n",
        "\n",
        "# Iteration counter\n",
        "counter = 0\n",
        "\n",
        "# Collect images for plotting later\n",
        "results = []\n",
        "\n",
        "while True:\n",
        "    for i, (data, _) in enumerate(dataloader):\n",
        "\n",
        "        # Data for training the discriminator\n",
        "        data = data.reshape(-1, image_size * image_size)\n",
        "        real_data = data.to(device)\n",
        "\n",
        "        # Noise follwing a uniform distribution in range [0,pi/2)\n",
        "        noise = torch.rand(batch_size, n_qubits, device=device) * math.pi / 2\n",
        "        fake_data = generator(noise)\n",
        "\n",
        "        # Training the discriminator\n",
        "        discriminator.zero_grad()\n",
        "        outD_real = discriminator(real_data).view(-1)\n",
        "        outD_fake = discriminator(fake_data.detach()).view(-1)\n",
        "\n",
        "        errD_real = criterion(outD_real, real_labels)\n",
        "        errD_fake = criterion(outD_fake, fake_labels)\n",
        "        # Propagate gradients\n",
        "        errD_real.backward()\n",
        "        errD_fake.backward()\n",
        "\n",
        "        errD = errD_real + errD_fake\n",
        "        optD.step()\n",
        "\n",
        "        # Training the generator\n",
        "        generator.zero_grad()\n",
        "        outD_fake = discriminator(fake_data).view(-1)\n",
        "        errG = criterion(outD_fake, real_labels)\n",
        "        errG.backward()\n",
        "        optG.step()\n",
        "\n",
        "        counter += 1\n",
        "\n",
        "        # Show loss values\n",
        "        if counter % 10 == 0:\n",
        "            print(f'Iteration: {counter}, Discriminator Loss: {errD:0.3f}, Generator Loss: {errG:0.3f}')\n",
        "            test_images = generator(fixed_noise).view(8,1,image_size,image_size).cpu().detach()\n",
        "\n",
        "            # Save images every 50 iterations\n",
        "            if counter % 50 == 0:\n",
        "                results.append(test_images)\n",
        "\n",
        "        if counter == num_iter:\n",
        "            break\n",
        "    if counter == num_iter:\n",
        "        break"
      ],
      "metadata": {
        "colab": {
          "base_uri": "https://localhost:8080/"
        },
        "id": "asj4uhgin4ZE",
        "outputId": "fe5479c8-f7e2-4cdc-c842-1cc41ac8f200"
      },
      "execution_count": 32,
      "outputs": [
        {
          "output_type": "stream",
          "name": "stdout",
          "text": [
            "Iteration: 10, Discriminator Loss: 1.345, Generator Loss: 0.673\n",
            "Iteration: 20, Discriminator Loss: 1.350, Generator Loss: 0.674\n",
            "Iteration: 30, Discriminator Loss: 1.335, Generator Loss: 0.677\n",
            "Iteration: 40, Discriminator Loss: 1.344, Generator Loss: 0.669\n",
            "Iteration: 50, Discriminator Loss: 1.322, Generator Loss: 0.679\n",
            "Iteration: 60, Discriminator Loss: 1.314, Generator Loss: 0.678\n",
            "Iteration: 70, Discriminator Loss: 1.295, Generator Loss: 0.680\n",
            "Iteration: 80, Discriminator Loss: 1.315, Generator Loss: 0.675\n",
            "Iteration: 90, Discriminator Loss: 1.330, Generator Loss: 0.642\n",
            "Iteration: 100, Discriminator Loss: 1.268, Generator Loss: 0.685\n",
            "Iteration: 110, Discriminator Loss: 1.300, Generator Loss: 0.644\n",
            "Iteration: 120, Discriminator Loss: 1.272, Generator Loss: 0.665\n",
            "Iteration: 130, Discriminator Loss: 1.338, Generator Loss: 0.625\n",
            "Iteration: 140, Discriminator Loss: 1.335, Generator Loss: 0.622\n",
            "Iteration: 150, Discriminator Loss: 1.287, Generator Loss: 0.632\n",
            "Iteration: 160, Discriminator Loss: 1.207, Generator Loss: 0.667\n",
            "Iteration: 170, Discriminator Loss: 1.283, Generator Loss: 0.632\n",
            "Iteration: 180, Discriminator Loss: 1.224, Generator Loss: 0.653\n",
            "Iteration: 190, Discriminator Loss: 1.279, Generator Loss: 0.620\n",
            "Iteration: 200, Discriminator Loss: 1.199, Generator Loss: 0.678\n",
            "Iteration: 210, Discriminator Loss: 1.254, Generator Loss: 0.631\n",
            "Iteration: 220, Discriminator Loss: 1.281, Generator Loss: 0.640\n",
            "Iteration: 230, Discriminator Loss: 1.296, Generator Loss: 0.613\n",
            "Iteration: 240, Discriminator Loss: 1.312, Generator Loss: 0.611\n",
            "Iteration: 250, Discriminator Loss: 1.303, Generator Loss: 0.578\n",
            "Iteration: 260, Discriminator Loss: 1.168, Generator Loss: 0.696\n",
            "Iteration: 270, Discriminator Loss: 1.244, Generator Loss: 0.628\n",
            "Iteration: 280, Discriminator Loss: 1.263, Generator Loss: 0.638\n",
            "Iteration: 290, Discriminator Loss: 1.242, Generator Loss: 0.665\n",
            "Iteration: 300, Discriminator Loss: 1.241, Generator Loss: 0.620\n",
            "Iteration: 310, Discriminator Loss: 1.074, Generator Loss: 0.757\n",
            "Iteration: 320, Discriminator Loss: 1.173, Generator Loss: 0.674\n",
            "Iteration: 330, Discriminator Loss: 1.301, Generator Loss: 0.604\n",
            "Iteration: 340, Discriminator Loss: 1.142, Generator Loss: 0.684\n",
            "Iteration: 350, Discriminator Loss: 1.219, Generator Loss: 0.598\n",
            "Iteration: 360, Discriminator Loss: 1.331, Generator Loss: 0.561\n",
            "Iteration: 370, Discriminator Loss: 1.169, Generator Loss: 0.744\n",
            "Iteration: 380, Discriminator Loss: 1.121, Generator Loss: 0.745\n",
            "Iteration: 390, Discriminator Loss: 1.177, Generator Loss: 0.663\n",
            "Iteration: 400, Discriminator Loss: 1.396, Generator Loss: 0.619\n",
            "Iteration: 410, Discriminator Loss: 0.970, Generator Loss: 0.849\n",
            "Iteration: 420, Discriminator Loss: 1.204, Generator Loss: 0.590\n",
            "Iteration: 430, Discriminator Loss: 1.083, Generator Loss: 0.739\n",
            "Iteration: 440, Discriminator Loss: 1.253, Generator Loss: 0.588\n",
            "Iteration: 450, Discriminator Loss: 1.160, Generator Loss: 0.698\n",
            "Iteration: 460, Discriminator Loss: 1.214, Generator Loss: 0.667\n",
            "Iteration: 470, Discriminator Loss: 0.889, Generator Loss: 0.833\n",
            "Iteration: 480, Discriminator Loss: 0.990, Generator Loss: 0.748\n",
            "Iteration: 490, Discriminator Loss: 0.860, Generator Loss: 0.906\n",
            "Iteration: 500, Discriminator Loss: 1.012, Generator Loss: 0.989\n"
          ]
        }
      ]
    },
    {
      "cell_type": "code",
      "source": [
        "fig = plt.figure(figsize=(10, 5))\n",
        "outer = gridspec.GridSpec(5, 2, wspace=0.1)\n",
        "\n",
        "for i, images in enumerate(results):\n",
        "    inner = gridspec.GridSpecFromSubplotSpec(1, images.size(0),\n",
        "                    subplot_spec=outer[i])\n",
        "\n",
        "    images = torch.squeeze(images, dim=1)\n",
        "    for j, im in enumerate(images):\n",
        "\n",
        "        ax = plt.Subplot(fig, inner[j])\n",
        "        ax.imshow(im.numpy(), cmap=\"gray\")\n",
        "        ax.set_xticks([])\n",
        "        ax.set_yticks([])\n",
        "        if j==0:\n",
        "            ax.set_title(f'Iteration {50+i*50}', loc='left')\n",
        "        fig.add_subplot(ax)\n",
        "\n",
        "plt.show()"
      ],
      "metadata": {
        "colab": {
          "base_uri": "https://localhost:8080/",
          "height": 414
        },
        "id": "eg5nOhGOoMmt",
        "outputId": "0257bd70-e197-4dfb-f3c8-25c87b857d1f"
      },
      "execution_count": 33,
      "outputs": [
        {
          "output_type": "display_data",
          "data": {
            "text/plain": [
              "<Figure size 1000x500 with 80 Axes>"
            ],
            "image/png": "[encoded data removed]"
          },
          "metadata": {}
        }
      ]
    }
  ]
}